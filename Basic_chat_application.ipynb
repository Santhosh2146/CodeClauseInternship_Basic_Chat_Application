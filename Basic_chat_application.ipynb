{
 "cells": [
  {
   "cell_type": "code",
   "execution_count": null,
   "id": "0c63635f",
   "metadata": {},
   "outputs": [],
   "source": [
    "pip install flask flask-socketio\n",
    "# server.py\n",
    "from flask import Flask, render_template\n",
    "from flask_socketio import SocketIO\n",
    "\n",
    "app = Flask(__name__)\n",
    "app.config['SECRET_KEY'] = 'secret'\n",
    "socketio = SocketIO(app)\n",
    "\n",
    "@app.route('/')\n",
    "def index():\n",
    "    return render_template('index.html')\n",
    "\n",
    "@socketio.on('message')\n",
    "def handle_message(message):\n",
    "    socketio.emit('message', message)\n",
    "\n",
    "if __name__ == '__main__':\n",
    "    socketio.run(app, debug=True)\n",
    "<!-- index.html -->\n",
    "<!DOCTYPE html>\n",
    "<html>\n",
    "<head>\n",
    "    <title>Chat Application</title>\n",
    "</head>\n",
    "<body>\n",
    "    <ul id=\"messages\"></ul>\n",
    "    <input id=\"input\" autocomplete=\"off\"><button onclick=\"sendMessage()\">Send</button>\n",
    "    <script src=\"https://cdnjs.cloudflare.com/ajax/libs/socket.io/4.0.1/socket.io.js\"></script>\n",
    "    <script>\n",
    "        const socket = io.connect('http://' + document.domain + ':' + location.port);\n",
    "\n",
    "        socket.on('message', function(msg) {\n",
    "            const messages = document.getElementById('messages');\n",
    "            const li = document.createElement('li');\n",
    "            li.textContent = msg;\n",
    "            messages.appendChild(li);\n",
    "        });\n",
    "\n",
    "        function sendMessage() {\n",
    "            const input = document.getElementById('input');\n",
    "            const message = input.value;\n",
    "            input.value = '';\n",
    "            socket.emit('message', message);\n",
    "        }\n",
    "    </script>\n",
    "</body>\n",
    "</html>\n",
    "python server.py\n"
   ]
  }
 ],
 "metadata": {
  "kernelspec": {
   "display_name": "Python 3 (ipykernel)",
   "language": "python",
   "name": "python3"
  },
  "language_info": {
   "codemirror_mode": {
    "name": "ipython",
    "version": 3
   },
   "file_extension": ".py",
   "mimetype": "text/x-python",
   "name": "python",
   "nbconvert_exporter": "python",
   "pygments_lexer": "ipython3",
   "version": "3.11.4"
  }
 },
 "nbformat": 4,
 "nbformat_minor": 5
}
